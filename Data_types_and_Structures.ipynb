{
  "nbformat": 4,
  "nbformat_minor": 0,
  "metadata": {
    "colab": {
      "provenance": []
    },
    "kernelspec": {
      "name": "python3",
      "display_name": "Python 3"
    },
    "language_info": {
      "name": "python"
    }
  },
  "cells": [
    {
      "cell_type": "markdown",
      "source": [
        "# **Theoretical Questions**  \n",
        "\n",
        "1. **What are data structures, and why are they important?**  \n",
        "   \n",
        "-  Data structures in Python are specialized formats used to store, organize, and manage data efficiently. Python provides **built-in data structures** and also allows for **user-defined data structures** to handle different types of data operations effectively.\n",
        "\n",
        "- ### **Types of Data Structures in Python are as follows:**  \n",
        "\n",
        "\n",
        "#### 🔹 **Built-in Data Structures:**  \n",
        "\n",
        "1. **Lists (`list`)** – Ordered, mutable collections  \n",
        "\n",
        "   ```python\n",
        "   my_list = [1, 2, 3, 4]\n",
        "   ```  \n",
        "2. **Tuples (`tuple`)** – Ordered, immutable collections  \n",
        "\n",
        "   ```python\n",
        "   my_tuple = (1, 2, 3)\n",
        "   ```  \n",
        "3. **Sets (`set`)** – Unordered, unique elements  \n",
        "\n",
        "   ```python\n",
        "   my_set = {1, 2, 3, 4}\n",
        "   ```  \n",
        "4. **Dictionaries (`dict`)** – Key-value pairs  \n",
        "\n",
        "   ```python\n",
        "   my_dict = {\"name\": \"Alice\", \"age\": 25}\n",
        "   ```\n",
        "\n",
        "#### 🔹 **User-defined Data Structures:**  \n",
        "\n",
        "1. **Stacks** – Follows Last-In-First-Out (LIFO)  \n",
        "2. **Queues** – Follows First-In-First-Out (FIFO)  \n",
        "3. **Linked Lists** – Nodes connected with references  \n",
        "4. **Trees** – Hierarchical data structure (e.g., Binary Trees)  \n",
        "5. **Graphs** – Nodes connected with edges  \n",
        "\n",
        "- ### **Importance of Data Structures:**\n",
        "\n",
        "✔ **(1) Efficient Data Management** – Organize and retrieve data efficiently.  \n",
        "\n",
        "✔ **(2) Optimized Performance** – Reduces time complexity (e.g., searching, sorting).\n",
        "\n",
        "✔ **(3)Scalability** – Helps in handling large data sets.\n",
        "\n",
        "✔ **(4) Better Algorithm Implementation** – Many algorithms depend on efficient data structures.\n",
        "\n",
        "✔ **(5) Memory Optimization** – Saves space and avoids redundancy.  \n",
        "\n",
        "---\n",
        "\n",
        "2. **Explain the difference between mutable and immutable data types with examples?**  \n",
        "   \n",
        "- **Mutable**: Can be modified after creation\n",
        "    (e.g., lists, dictionaries, sets).  \n",
        "     \n",
        "     ```python\n",
        "     my_list = [1, 2, 3]\n",
        "     my_list.append(4)  # Modifying the list\n",
        "     ```  \n",
        "- **Immutable**: Cannot be changed after creation (e.g., strings, tuples).  \n",
        "     \n",
        "     ```python\n",
        "     my_tuple = (1, 2, 3)\n",
        "     my_tuple[0] = 10  # This will cause an error\n",
        "     ```  \n",
        "---\n",
        "\n",
        "3. **What are the main differences between lists and tuples in Python?**  \n",
        "   \n",
        "- ### **Main differences between Lists and Tuples in Python are as follows:**  \n",
        "\n",
        "| Feature         | **List (`list`)**  | **Tuple (`tuple`)**  |\n",
        "|---------------|----------------|----------------|\n",
        "| **Mutability** | ✅ **Mutable** (Can be modified) | ❌ **Immutable** (Cannot be modified) |\n",
        "| **Syntax** | `my_list = [1, 2, 3]` | `my_tuple = (1, 2, 3)` |\n",
        "| **Performance** | Slower due to dynamic resizing | Faster due to fixed size |\n",
        "| **Memory Usage** | Uses more memory | Uses less memory |\n",
        "| **Operations** | Allows append, remove, sort, etc. | Cannot be changed after creation |\n",
        "| **Iteration Speed** | Slightly slower due to mutability overhead | Faster due to immutability |\n",
        "| **Usage** | Best for collections that change frequently | Best for fixed data (e.g., coordinates, database records) |\n",
        "| **Error Protection** | More prone to accidental modifications | Safer as data cannot be changed |\n",
        "\n",
        "- ### **Example of List vs Tuple:**\n",
        "\n",
        "```python\n",
        "# List (Mutable)\n",
        "my_list = [1, 2, 3]\n",
        "my_list.append(4)  # ✅ Works\n",
        "my_list[0] = 99    # ✅ Works\n",
        "print(my_list)  # Output: [99, 2, 3, 4]\n",
        "```\n",
        "```python\n",
        "# Tuple (Immutable)\n",
        "my_tuple = (1, 2, 3)\n",
        "# my_tuple.append(4)  ❌ Error: Tuples don't support item assignment\n",
        "# my_tuple[0] = 99    ❌ Error: Tuples are immutable\n",
        "print(my_tuple)  # Output: (1, 2, 3)\n",
        "```\n",
        "- **Use Lists** when you need a collection that can change dynamically (e.g., storing user inputs, AI-generated predictions).  \n",
        "\n",
        "- **Use Tuples** when you need fixed data that should not be modified (e.g., storing constant values, database records).  \n",
        "\n",
        "---  \n",
        "\n",
        "4. **Describe how dictionaries store data?**  \n",
        "   \n",
        "-  Python **dictionaries (`dict`)** store data as **key-value pairs** using a **hash table**. This allows for fast lookups, insertions, and deletions.  \n",
        "\n",
        "```python\n",
        "# Creating a dictionary\n",
        "my_dict = {\"name\": \"Arijit\", \"age\": 29, \"city\": \"Kolkata\"}\n",
        "\n",
        "# Accessing a value (O(1) average time complexity)\n",
        "print(my_dict[\"name\"])  # Output: Arijit\n",
        "\n",
        "# Adding a new key-value pair\n",
        "my_dict[\"job\"] = \"Engineer\"\n",
        "\n",
        "# Checking internal hash values\n",
        "print(hash(\"name\"))  # Example output: 356789123 (hash value)\n",
        "```\n",
        "\n",
        "- ### **Advantages of Dictionary Storage**\n",
        "\n",
        "✅ **Fast Access** – Key-based retrieval is quicker than lists.  \n",
        "✅ **No Duplicates** – Each key is unique.  \n",
        "✅ **Efficient Memory Usage** – Uses hash tables for optimized storage.  \n",
        "✅ **Flexible Data Types** – Keys must be immutable (e.g., strings, numbers, tuples), while values can be any data type.  \n",
        "\n",
        "---  \n",
        "\n",
        "5. **Why might you use a set instead of a list in Python?**  \n",
        "   \n",
        "- You might use a **set** instead of a **list** in Python for the following reasons:  \n",
        "\n",
        "- ### **1. Ensuring Uniqueness (No Duplicates)**  \n",
        "\n",
        " - Sets automatically remove duplicate values, while lists allow duplicates.  \n",
        "\n",
        "- Example:  \n",
        "\n",
        "  ```python\n",
        "  my_list = [1, 2, 2, 3, 4, 4]\n",
        "  my_set = set(my_list)\n",
        "  print(my_set)  # Output: {1, 2, 3, 4}\n",
        "  ```  \n",
        "\n",
        "- ### **2. Faster Lookups (O(1) vs. O(n))**  \n",
        "\n",
        "  - Checking if an element exists in a list takes **O(n)** time, whereas in a set, it takes **O(1)** (on average).  \n",
        "\n",
        "- Example:  \n",
        "\n",
        "  ```python\n",
        "  my_list = [10, 20, 30, 40, 50]\n",
        "  my_set = {10, 20, 30, 40, 50}\n",
        "\n",
        "  print(30 in my_list)  # Slower (O(n))\n",
        "  print(30 in my_set)   # Faster (O(1))\n",
        "  ```  \n",
        "\n",
        "- ### **3. Mathematical Operations (Union, Intersection, Difference)**  \n",
        "\n",
        "  - Sets provide built-in methods for **union**, **intersection**, and **difference**, making them useful in mathematical and database operations.  \n",
        "\n",
        "- Example:  \n",
        "\n",
        "  ```python\n",
        "  set1 = {1, 2, 3}\n",
        "  set2 = {3, 4, 5}\n",
        "\n",
        "  print(set1 | set2)  # Union: {1, 2, 3, 4, 5}\n",
        "  print(set1 & set2)  # Intersection: {3}\n",
        "  print(set1 - set2)  # Difference: {1, 2}\n",
        "  ```\n",
        "\n",
        "- ### **4. Eliminating Duplicates from a List**  \n",
        "\n",
        " - If you have a list with duplicates and need unique elements, converting it to a set is an easy way.  \n",
        "\n",
        "- Example:  \n",
        "\n",
        "  ```python\n",
        "  numbers = [1, 2, 2, 3, 4, 4, 5]\n",
        "  unique_numbers = list(set(numbers))\n",
        "  print(unique_numbers)  # Output: [1, 2, 3, 4, 5]\n",
        "  ```  \n",
        "\n",
        "- ### **When NOT to Use Sets?**\n",
        "\n",
        " - When maintaining order is important (lists keep order; sets don’t).  \n",
        " - When you need indexed access (sets don’t support indexing like lists).  \n",
        "\n",
        "- ### **Conclusion**  \n",
        "\n",
        " - Use a **set** when you need fast lookups, unique elements, and mathematical operations. Use a **list** when order and indexing are required.\n",
        "\n",
        "---\n",
        "\n",
        "6. **What is a string in Python, and how is it different from a list?**  \n",
        "   \n",
        "- A **string** in Python is a sequence of characters enclosed in quotes (`' '` or `\" \"`). It is **immutable**, meaning its contents cannot be changed after creation.  \n",
        "\n",
        "- #### **Example:**\n",
        "\n",
        "```python\n",
        "my_string = \"Hello, World!\"\n",
        "print(my_string)  # Output: Hello, World!\n",
        "```\n",
        "- ### **Difference between a String and a List in Python:**  \n",
        "\n",
        "| Feature         | String | List |\n",
        "|---------------|--------|------|\n",
        "| **Mutability**  | Immutable (cannot be changed) | Mutable (can be modified) |\n",
        "| **Element Type** | Always contains characters | Can contain mixed data types (e.g., int, str, float) |\n",
        "| **Modification** | Cannot modify individual elements | Can modify, add, or remove elements |\n",
        "| **Indexing & Slicing** | Supports indexing and slicing | Supports indexing and slicing |\n",
        "| **Methods** | Has string-specific methods like `.upper()`, `.lower()`, `.replace()` | Has list-specific methods like `.append()`, `.remove()`, `.sort()` |\n",
        "\n",
        "- ### **Examples to Show the Differences**  \n",
        "\n",
        " - 1️⃣ **Mutability**\n",
        "\n",
        "```python\n",
        "# String (Immutable)\n",
        "s = \"hello\"\n",
        "s[0] = \"H\"  # ❌ This will raise an error\n",
        "```\n",
        "```python\n",
        "#List (Mutable)\n",
        "l = [\"h\", \"e\", \"l\", \"l\", \"o\"]\n",
        "l[0] = \"H\"  # ✅ Allowed\n",
        "print(l)  # Output: ['H', 'e', 'l', 'l', 'o']\n",
        "```\n",
        " - 2️⃣ **Adding Elements**  \n",
        "\n",
        "```python\n",
        "# String (Cannot append)\n",
        "s = \"hello\"\n",
        "s += \" world\"  # ✅ Creates a new string\n",
        "print(s)  # Output: hello world\n",
        "```\n",
        "```python\n",
        "# List (Can append)\n",
        "l = [\"hello\"]\n",
        "l.append(\"world\")  # ✅ Modifies the list\n",
        "print(l)  # Output: ['hello', 'world']\n",
        "```\n",
        "\n",
        " -  3️⃣ **Deleting Elements**  \n",
        "\n",
        "```python\n",
        "# String (Cannot delete characters)\n",
        "s = \"hello\"\n",
        "del s[0]  # ❌ This will raise an error\n",
        "```\n",
        "```python\n",
        "# List (Can delete elements)\n",
        "l = [\"h\", \"e\", \"l\", \"l\", \"o\"]\n",
        "del l[0]  # ✅ Removes first element\n",
        "print(l)  # Output: ['e', 'l', 'l', 'o']\n",
        "```\n",
        "\n",
        "- ### **When to Use a String vs. a List?**  \n",
        " - ✅ Use a **string** when working with text data that should remain unchanged.  \n",
        " - ✅ Use a **list** when working with a collection of items that need modification.  \n",
        "\n",
        "- #### **Final Thought**  \n",
        " - A **string** is essentially a sequence of characters, while a **list** is a more flexible data structure that can hold various data types and be modified.  \n",
        "\n",
        "---\n",
        "\n",
        "7. **How do tuples ensure data integrity in Python?**  \n",
        "   \n",
        "- Tuples ensure **data integrity** in Python primarily because they are **immutable**—once created, their contents **cannot be modified**. This prevents accidental changes and helps maintain **data consistency** throughout a program.\n",
        "\n",
        "- ### **1. Immutability Protects Data**  \n",
        "\n",
        " - Unlike lists, tuples **cannot be changed** after creation, ensuring that critical data remains intact.  \n",
        "\n",
        "- Example:  \n",
        "\n",
        "  ```python\n",
        "  my_tuple = (10, 20, 30)\n",
        "  my_tuple[1] = 50  # ❌ This will raise an error\n",
        "  ```\n",
        "-  **Error Output:**  \n",
        "  ```\n",
        "  TypeError: 'tuple' object does not support item assignment\n",
        "  ```\n",
        "- ### **2. Prevents Unintentional Modifications**  \n",
        "\n",
        " - Since tuples **cannot be modified**, they protect data from unintended changes that might occur in large programs.  \n",
        "\n",
        "- Example:  \n",
        "  ```python\n",
        "  def process_data(data):\n",
        "      # If data were a list, it could be accidentally modified\n",
        "      # But as a tuple, it remains safe\n",
        "      print(\"Processing:\", data)\n",
        "\n",
        "  my_data = (100, 200, 300)\n",
        "  process_data(my_data)  # Data remains unchanged\n",
        "  ```\n",
        "- ### **3. Safe for Use as Dictionary Keys**  \n",
        "\n",
        " - Because tuples are immutable, they can be used as **keys in dictionaries** (unlike lists).  \n",
        "\n",
        "- Example:  \n",
        "  ```python\n",
        "  coordinates = {(10, 20): \"Point A\", (30, 40): \"Point B\"}\n",
        "  print(coordinates[(10, 20)])  # Output: Point A\n",
        "  ```\n",
        "\n",
        "- ### **4. Thread-Safety in Multi-Threaded Environments**  \n",
        "\n",
        " - Tuples are **inherently thread-safe** since they cannot be modified, reducing the risk of race conditions.  \n",
        "\n",
        " - Example: If multiple threads access a tuple, they won’t face conflicts from modifications.  \n",
        "\n",
        "- ### **5. Protects Critical Data (e.g., Database Records, API Responses)**  \n",
        "\n",
        " - Tuples are ideal for storing **fixed** data that should not be altered, such as:  \n",
        "\n",
        "  - **Database Records**  \n",
        "  - **Configuration Settings**  \n",
        "  - **API Responses**  \n",
        "\n",
        "  **Example:**\n",
        "\n",
        "  ```python\n",
        "  db_record = (\"Arijit Chakraborty\", 29, \"Kolkata\")  # Name, Age, City\n",
        "  ```\n",
        "- ### **Conclusion**  \n",
        "\n",
        "  - Tuples **ensure data integrity** by preventing modifications, reducing errors, and maintaining consistency. They are particularly useful for **fixed** data that must remain unchanged throughout a program.\n",
        "\n",
        "---\n",
        "\n",
        "8. **What is a hash table, and how does it relate to dictionaries?**  \n",
        "   \n",
        "- A **hash table** is a data structure that stores key-value pairs using a **hashing function** to map keys to specific memory locations (buckets). This allows for **fast lookups, insertions, and deletions**—typically in **O(1) time complexity** on average.\n",
        "\n",
        "- **Dictionaries (`dict`) in Python** are implemented using a **hash table**.\n",
        "  - When you store a key-value pair, Python internally:\n",
        "\n",
        "   1. **Hashes the key** using a hash function.\n",
        "   2. **Maps it to a memory location** in the dictionary.\n",
        "   3. **Stores the value** in the corresponding bucket.\n",
        "\n",
        "- ### **Example: Python Dictionary (Using a Hash Table)**\n",
        "\n",
        "```python\n",
        "# Creating a dictionary\n",
        "my_dict = {\"name\": \"Alice\", \"age\": 25, \"city\": \"New York\"}\n",
        "```\n",
        "```python\n",
        "# Fast lookup using a hash table\n",
        "print(my_dict[\"name\"])  # Output: Alice\n",
        "```\n",
        "🔹 **Dictionaries offer O(1) average time complexity for lookups** because of the hash table implementation.\n",
        "\n",
        "- ### **Conclusion**\n",
        "\n",
        " - A **hash table** is the foundation of Python dictionaries, providing **fast** and **efficient** key-value storage. This makes dictionaries one of the most powerful data structures in Python!\n",
        "\n",
        "---\n",
        "\n",
        "9. **Can lists contain different data types in Python?**  \n",
        "   \n",
        "- Yes! **Lists in Python** can contain elements of **different data types** within the same list. This flexibility makes lists a powerful data structure.  \n",
        "\n",
        "- ### **Example: A List with Mixed Data Types**  \n",
        "\n",
        "```python\n",
        "my_list = [25, \"Hello\", 3.14, True, [1, 2, 3], {\"key\": \"value\"}]\n",
        "\n",
        "print(my_list)\n",
        "```\n",
        "🔹 **Output:**  \n",
        "```\n",
        "[25, 'Hello', 3.14, True, [1, 2, 3], {'key': 'value'}]\n",
        "```\n",
        "-> This list contains:  \n",
        "- **Integer** → `25`  \n",
        "- **String** → `\"Hello\"`  \n",
        "- **Float** → `3.14`  \n",
        "- **Boolean** → `True`  \n",
        "- **Nested List** → `[1, 2, 3]`  \n",
        "- **Dictionary** → `{\"key\": \"value\"}`  \n",
        "\n",
        "- Python lists are **heterogeneous**, meaning they can store elements of **any type** because they hold references (pointers) to objects, rather than requiring all elements to be of the same type.\n",
        "\n",
        "- ### **Example: Performing Operations on Mixed Lists**  \n",
        "\n",
        "You can still perform operations on specific elements **based on their type**:\n",
        "\n",
        "```python\n",
        "mixed_list = [10, \"Python\", 5.5, False]\n",
        "\n",
        "# Accessing elements\n",
        "print(mixed_list[1])  # Output: Python\n",
        "\n",
        "# Performing type-specific operations\n",
        "print(mixed_list[0] + 5)  # Output: 15 (Integer addition)\n",
        "print(mixed_list[2] * 2)  # Output: 11.0 (Float multiplication)\n",
        "print(mixed_list[1].upper())  # Output: PYTHON (String operation)\n",
        "```\n",
        "\n",
        "- ### **When to Use Mixed-Type Lists?**\n",
        "  - ✅ **Storing related but different data types**  \n",
        "  - ✅ **Creating flexible data structures** (e.g., JSON-like objects)  \n",
        "  - ✅ **Handling dynamic inputs in applications**  \n",
        "\n",
        "- ### **Conclusion**\n",
        "\n",
        "  - Yes, **lists in Python can store multiple data types**, making them highly flexible. However, be mindful when working with them to avoid unexpected type errors!\n",
        "  \n",
        "---\n",
        "\n",
        "10. **Explain why strings are immutable in Python?**  \n",
        "   \n",
        "- **Strings in Python are immutable**, meaning they **cannot be modified after creation**. If you try to change a string, a **new string** is created instead of modifying the existing one.  \n",
        "\n",
        "- ### **1. Memory Efficiency (String Interning)**\n",
        "\n",
        " - Python **internally optimizes memory usage** by storing identical strings at the same memory location (string interning).  \n",
        "\n",
        " - If strings were mutable, modifying one would affect all references, causing **unexpected behavior**.  \n",
        "\n",
        "🔹 **Example:**\n",
        "\n",
        "```python\n",
        "s1 = \"hello\"\n",
        "s2 = \"hello\"\n",
        "\n",
        "print(id(s1) == id(s2))  # Output: True (Both refer to the same memory)\n",
        "```\n",
        "➡️ If strings were mutable, changing `s1` would also change `s2`, leading to inconsistencies.\n",
        "\n",
        "- ### **2. Preventing Unintended Side Effects**\n",
        "\n",
        " - Strings are often shared across multiple parts of a program.  \n",
        "\n",
        " - **Immutability ensures data integrity**—no function can accidentally modify a string and cause errors elsewhere.  \n",
        "\n",
        "🔹 **Example (Immutable String):**\n",
        "\n",
        "```python\n",
        "name = \"Alice\"\n",
        "name[0] = \"B\"  # ❌ Error: Strings cannot be changed\n",
        "```\n",
        "➡️ **This prevents accidental modifications.**\n",
        "\n",
        "- ### **3. Security & Hashing (Dictionaries & Sets)**\n",
        "\n",
        " - Since **strings are immutable, they can be safely used as dictionary keys or set elements.**\n",
        "\n",
        " - Hashing requires objects to remain **unchanged** to prevent lookup errors.\n",
        "\n",
        "🔹 **Example: Using Strings as Dictionary Keys**\n",
        "```python\n",
        "my_dict = {\"username\": \"JohnDoe\"}\n",
        "print(my_dict[\"username\"])  # Works because strings are immutable\n",
        "```\n",
        "➡️ **If strings were mutable, modifying a key would break dictionary lookups.**\n",
        "\n",
        "- ### **4. Performance Optimization (Caching & Multithreading)**\n",
        "\n",
        " - **Immutable objects are thread-safe** (no race conditions in multi-threaded programs).\n",
        "\n",
        " - Python can **reuse strings** instead of creating multiple copies, improving efficiency.\n",
        "\n",
        "- ### **5. Creating a New String Instead of Modifying**\n",
        "Since Python strings are immutable, any modification results in a **new string** instead of altering the existing one.\n",
        "\n",
        "🔹 **Example (New String Creation):**\n",
        "\n",
        "```python\n",
        "s = \"hello\"\n",
        "s = s + \" world\"  # Creates a NEW string\n",
        "print(s)  # Output: hello world\n",
        "```\n",
        "➡️ **The original `\"hello\"` remains unchanged; a new `\"hello world\"` is created.**\n",
        "\n",
        "- ### **Conclusion**\n",
        "\n",
        "  - **Python strings are immutable to ensure memory efficiency, prevent unintended changes, allow safe hashing, and improve performance.** This design choice makes Python **more robust, secure, and optimized!**\n",
        "\n",
        "---\n",
        "\n",
        "11. ** What advantages do dictionaries offer over lists for certain tasks?**  \n",
        "   \n",
        "- ### **Advantages of Dictionaries over Lists in Python**  \n",
        "  \n",
        "  - Dictionaries (`dict`) and lists (`list`) are both used to store collections of data, but **dictionaries offer several advantages over lists** in certain tasks due to their key-value storage and hashing mechanism.\n",
        "\n",
        "- ### **1. Faster Lookups (O(1) vs. O(n))**  \n",
        "  \n",
        "  - **Dictionaries:** **O(1) average time complexity** for key lookups because they use **hash tables**.  \n",
        "  \n",
        "  - **Lists:** **O(n) time complexity** for lookups because they require **linear search** in the worst case.  \n",
        "\n",
        "🔹 **Example:**  \n",
        "\n",
        "```python\n",
        "# List Lookup (Slower)\n",
        "names_list = [\"Alice\", \"Bob\", \"Charlie\"]\n",
        "print(\"Charlie\" in names_list)  # O(n) time\n",
        "\n",
        "# Dictionary Lookup (Faster)\n",
        "names_dict = {\"Alice\": 1, \"Bob\": 2, \"Charlie\": 3}\n",
        "print(\"Charlie\" in names_dict)  # O(1) time\n",
        "```\n",
        "  - ✅ **Use a dictionary when you need fast lookups!**\n",
        "\n",
        "- ### **2. Key-Value Pair Organization**\n",
        "\n",
        " - **Dictionaries store data in key-value pairs, making retrieval more intuitive.**  \n",
        " - **Lists store elements in sequential order, which is less efficient when searching by attribute.**  \n",
        "\n",
        "🔹 **Example:**  \n",
        "\n",
        "```python\n",
        "# List Example (Less Readable)\n",
        "student_list = [\"John\", 25, \"New York\"]\n",
        "print(student_list[1])  # 25 (But what does this index represent?)\n",
        "\n",
        "# Dictionary Example (More Readable)\n",
        "student_dict = {\"name\": \"John\", \"age\": 25, \"city\": \"New York\"}\n",
        "print(student_dict[\"age\"])  # 25 (Clearly labeled!)\n",
        "```\n",
        "  - ✅ **Use a dictionary when data needs meaningful labels (like names, attributes, or IDs).**\n",
        "\n",
        "- ### **3. Eliminates the Need for Manual Searching**\n",
        "\n",
        " - In a **list**, you must loop through elements to find a value.  \n",
        " - In a **dictionary**, you can access values directly using keys.  \n",
        "\n",
        "🔹 **Example:**  \n",
        "\n",
        "```python\n",
        "# Searching in a list (Inefficient)\n",
        "employees = [(\"John\", 101), (\"Alice\", 102), (\"Bob\", 103)]\n",
        "for emp in employees:\n",
        "    if emp[0] == \"Alice\":\n",
        "        print(emp[1])  # Output: 102\n",
        "\n",
        "# Direct lookup in a dictionary (Efficient)\n",
        "employees_dict = {\"John\": 101, \"Alice\": 102, \"Bob\": 103}\n",
        "print(employees_dict[\"Alice\"])  # Output: 102\n",
        "```\n",
        "✅ **Use a dictionary when frequent data retrieval is required!**\n",
        "\n",
        "- ### **4. No Duplicate Keys**\n",
        "\n",
        " - **Dictionaries automatically prevent duplicate keys, ensuring unique entries.**  \n",
        "\n",
        " - **Lists allow duplicates, which can lead to data inconsistency.**  \n",
        "\n",
        "🔹 **Example:**  \n",
        "\n",
        "```python\n",
        "# List (Allows Duplicates)\n",
        "students_list = [\"Alice\", \"Bob\", \"Alice\"]\n",
        "print(students_list)  # Output: ['Alice', 'Bob', 'Alice']\n",
        "\n",
        "# Dictionary (Ensures Uniqueness)\n",
        "students_dict = {\"Alice\": 1, \"Bob\": 2, \"Alice\": 3}  # Overwrites previous \"Alice\"\n",
        "print(students_dict)  # Output: {'Alice': 3, 'Bob': 2}\n",
        "```\n",
        "  - ✅ **Use a dictionary when you need unique keys!**\n",
        "\n",
        "- ### **5. More Efficient Data Storage and Management**\n",
        "\n",
        "  - **Dictionaries** store and retrieve data more efficiently than lists, especially when dealing with large datasets.  \n",
        "\n",
        "  - **Lists** can become inefficient when storing key-value-like relationships manually.  \n",
        "\n",
        "🔹 **Example:**  \n",
        "\n",
        "```python\n",
        "# Using a list for key-value mapping (Complicated)\n",
        "countries = [[\"USA\", \"Washington\"], [\"India\", \"New Delhi\"], [\"Japan\", \"Tokyo\"]]\n",
        "for country in countries:\n",
        "    if country[0] == \"India\":\n",
        "        print(country[1])  # Output: New Delhi\n",
        "\n",
        "# Using a dictionary (Simpler & Faster)\n",
        "countries_dict = {\"USA\": \"Washington\", \"India\": \"New Delhi\", \"Japan\": \"Tokyo\"}\n",
        "print(countries_dict[\"India\"])  # Output: New Delhi\n",
        "```\n",
        "  - ✅ **Use a dictionary for structured and efficient key-value storage!**\n",
        "\n",
        "- ### **6. Ideal for Counting and Grouping Data**\n",
        "\n",
        " - **Dictionaries are great for counting occurrences of elements,** while lists require extra operations.  \n",
        "\n",
        "🔹 **Example: Counting Words in a List vs. Dictionary**  \n",
        "\n",
        "```python\n",
        "# Using a list (Inefficient)\n",
        "words = [\"apple\", \"banana\", \"apple\", \"orange\", \"banana\", \"banana\"]\n",
        "count_list = []\n",
        "for word in words:\n",
        "    found = False\n",
        "    for item in count_list:\n",
        "        if item[0] == word:\n",
        "            item[1] += 1\n",
        "            found = True\n",
        "            break\n",
        "    if not found:\n",
        "        count_list.append([word, 1])\n",
        "print(count_list)  # Output: [['apple', 2], ['banana', 3], ['orange', 1]]\n",
        "\n",
        "# Using a dictionary (Efficient)\n",
        "word_count = {}\n",
        "for word in words:\n",
        "    word_count[word] = word_count.get(word, 0) + 1\n",
        "print(word_count)  # Output: {'apple': 2, 'banana': 3, 'orange': 1}\n",
        "```\n",
        "  - ✅ **Use a dictionary when counting occurrences!**\n",
        "\n",
        "- ### **7. Supports Nested Data Structures**\n",
        "\n",
        " - Dictionaries support **nesting**, making them useful for **complex data storage.**  \n",
        " - Lists can be nested too, but retrieval and modification can be cumbersome.  \n",
        "\n",
        "🔹 **Example: Storing Student Grades in a Dictionary**\n",
        "\n",
        "```python\n",
        "students = {\n",
        "    \"John\": {\"math\": 85, \"science\": 90},\n",
        "    \"Alice\": {\"math\": 78, \"science\": 95},\n",
        "}\n",
        "print(students[\"Alice\"][\"science\"])  # Output: 95\n",
        "```\n",
        "✅ **Use a dictionary when dealing with structured hierarchical data!**\n",
        "\n",
        "- ## **When to Use a Dictionary vs. a List?**\n",
        "\n",
        "| **Use a List When...** | **Use a Dictionary When...** |\n",
        "|----------------|----------------|\n",
        "| You need **ordered** data. | You need **fast lookups** (O(1) time complexity). |\n",
        "| Elements don’t have a meaningful label. | Data consists of **key-value pairs**. |\n",
        "| You need to iterate over values frequently. | You need to **map relationships** between elements. |\n",
        "| Duplicates are allowed. | You need **unique identifiers (keys)**. |\n",
        "| Indexed access is required. | Data should be easily **searched and retrieved**. |\n",
        "\n",
        "- ### **Conclusion**\n",
        "\n",
        "  - ✅ **Dictionaries are more efficient than lists** for tasks that involve **quick lookups, structured data storage, and key-value relationships**.  \n",
        "\n",
        "  - ✅ **Lists are better** when **order matters or when working with sequential elements**.  \n",
        "\n",
        "**Choose the right data structure based on the use case to optimize performance and readability!**\n",
        "\n",
        "---\n",
        "\n",
        "12. **Describe a scenario where using a tuple would be preferable over a list?**  \n",
        "   \n",
        "- ### **Scenario Where a Tuple is Preferable Over a List:**  \n",
        "\n",
        "  - #### **Scenario: Storing GPS Coordinates (Latitude, Longitude)**  \n",
        "\n",
        "-> Imagine you are building a **navigation system** or a **mapping application** where you need to store **GPS coordinates** (latitude, longitude). Since these values should remain **constant** and **unchangeable**, a **tuple** is the ideal choice.\n",
        "\n",
        "- 1️⃣ **Data Integrity & Immutability**  \n",
        "   - GPS coordinates should not be accidentally modified.  \n",
        "   - Using a **tuple** ensures that once coordinates are set, they **cannot** be changed.  \n",
        "\n",
        "- 2️⃣ **Faster Performance**  \n",
        "   - Tuples consume **less memory** and offer **faster access** compared to lists.  \n",
        "   - This is important in applications where performance is a priority.  \n",
        "\n",
        "- 3️⃣ **Safe as Dictionary Keys**  \n",
        "   - Tuples can be used as **dictionary keys** (unlike lists), making them useful for location-based lookups.  \n",
        "\n",
        "- ### **Example: Storing GPS Coordinates in a Tuple**\n",
        "\n",
        "```python\n",
        "# GPS coordinates for New York City (Latitude, Longitude)\n",
        "nyc_coordinates = (40.7128, -74.0060)\n",
        "\n",
        "# Accessing values\n",
        "print(f\"Latitude: {nyc_coordinates[0]}, Longitude: {nyc_coordinates[1]}\")\n",
        "\n",
        "# Trying to modify (this will cause an error)\n",
        "nyc_coordinates[0] = 41.0000  # ❌ TypeError: 'tuple' object does not support item assignment\n",
        "```\n",
        "- ### **Example: Using Tuples as Dictionary Keys for Fast Lookups**\n",
        "\n",
        "```python\n",
        "# Dictionary to store city names based on coordinates\n",
        "locations = {\n",
        "    (40.7128, -74.0060): \"New York\",\n",
        "    (34.0522, -118.2437): \"Los Angeles\",\n",
        "    (51.5074, -0.1278): \"London\"\n",
        "}\n",
        "\n",
        "# Retrieving a city based on coordinates\n",
        "print(locations[(34.0522, -118.2437)])  # Output: Los Angeles\n",
        "```\n",
        "✅ **If we used lists instead of tuples, this dictionary would raise an error** because lists are **unhashable**.\n",
        "\n",
        "- ### **Other Real-World Scenarios Where Tuples Are Preferred**  \n",
        "  - 1. **Database Records** – Tuples ensure the integrity of fixed records (e.g., `(ID, Name, Age)`).  \n",
        "  - 2. **Fixed Configuration Settings** – Immutable settings (e.g., `(1920, 1080)` for screen resolution).  \n",
        "  - 3. **Returning Multiple Values from Functions** – Tuples provide a safe and efficient way to return multiple values.  \n",
        "\n",
        "- ### **Conclusion**  \n",
        "  - ✅ **Use tuples when data should remain unchanged, needs fast access, or should be used as dictionary keys.**  \n",
        "  - ✅ **Lists are better when data needs modification or dynamic resizing.**  \n",
        "\n",
        "**Choosing the right data structure improves efficiency, safety, and performance!**   \n",
        "\n",
        "---\n",
        "\n",
        "13. **How do sets handle duplicate values in Python?**  \n",
        "   \n",
        "- ✅ **Sets automatically remove duplicate values** when elements are added.  \n",
        "\n",
        "- ✅ **They only store unique elements**, ensuring no duplicates exist.  \n",
        "\n",
        "- ### **1. Sets Automatically Remove Duplicates**  \n",
        "\n",
        "```python\n",
        "my_set = {1, 2, 2, 3, 4, 4, 5}\n",
        "print(my_set)  # Output: {1, 2, 3, 4, 5}  ✅ Duplicates are removed\n",
        "```\n",
        "🔹 Even though `2` and `4` were added multiple times, the set only keeps **one instance** of each value.\n",
        "\n",
        "- ### **2. Adding Duplicate Elements Has No Effect**  \n",
        "\n",
        "```python\n",
        "numbers = {10, 20, 30}\n",
        "numbers.add(20)  # Adding 20 again\n",
        "\n",
        "print(numbers)  # Output: {10, 20, 30} ✅ No change, as 20 already exists\n",
        "```\n",
        "🔹 The `add()` method does **not** create duplicates; it **only adds unique values**.\n",
        "\n",
        "- ### **3. Creating a Unique List Using a Set**  \n",
        "  - If you have a list with duplicate values, converting it to a **set** removes duplicates:  \n",
        "\n",
        "```python\n",
        "numbers_list = [1, 2, 2, 3, 4, 4, 5]\n",
        "unique_numbers = set(numbers_list)\n",
        "\n",
        "print(unique_numbers)  # Output: {1, 2, 3, 4, 5} ✅ List converted to unique values\n",
        "```\n",
        "\n",
        "- ### **4. Using Sets for Fast Membership Checks (O(1) Complexity)**  \n",
        "  - Since sets use **hashing**, checking for an element is much faster than in lists.  \n",
        "\n",
        "```python\n",
        "my_list = [1, 2, 3, 4, 5]\n",
        "my_set = {1, 2, 3, 4, 5}\n",
        "\n",
        "print(3 in my_list)  # O(n) time complexity (slower)\n",
        "print(3 in my_set)   # O(1) time complexity (faster)\n",
        "```\n",
        "\n",
        "- ### **5. Removing Duplicates in a Set**\n",
        "  - Sets do **not allow duplicates**, so if you try to add an existing value, the set remains unchanged.\n",
        "\n",
        "```python\n",
        "s = {1, 2, 3}\n",
        "s.add(2)  # Duplicate, so it is ignored\n",
        "print(s)  # Output: {1, 2, 3}\n",
        "```\n",
        "\n",
        "- ### **Conclusion**  \n",
        "\n",
        "✅ **Sets automatically remove duplicate values** when created or updated.  \n",
        "✅ **Fast lookups** make them great for checking unique values.  \n",
        "✅ **Ideal for filtering unique elements from lists!**  \n",
        "\n",
        "- **Use sets when uniqueness matters!**\n",
        "\n",
        "---\n",
        "\n",
        "14. **How does the `in` keyword work differently for lists and dictionaries?**  \n",
        "   \n",
        "- The `in` keyword is used to check if an element exists in a **list** or a **dictionary**, but it behaves differently in each case.  \n",
        "\n",
        "- ### **1. `in` with Lists → Searches for Elements (O(n))**  \n",
        "  - When used with a **list**, `in` checks if a value exists **anywhere** in the list.  \n",
        "  - **Time Complexity:** `O(n)` (linear search).  \n",
        "\n",
        "🔹 **Example: Checking if an Element Exists in a List**  \n",
        "\n",
        "```python\n",
        "numbers = [10, 20, 30, 40, 50]\n",
        "\n",
        "print(30 in numbers)  # ✅ True (30 is in the list)\n",
        "print(100 in numbers) # ❌ False (100 is not in the list)\n",
        "```\n",
        "- The entire list is scanned **from start to end** until a match is found (or not).\n",
        "\n",
        "- ### **2. `in` with Dictionaries → Checks for Keys (O(1))**  \n",
        "  - When used with a **dictionary**, `in` only checks for the **existence of keys**, **not values**.  \n",
        "  \n",
        "  - **Time Complexity:** `O(1)` (because dictionaries use a **hash table**).  \n",
        "\n",
        "🔹 **Example: Checking for a Key in a Dictionary**  \n",
        "\n",
        "```python\n",
        "person = {\"name\": \"Alice\", \"age\": 25, \"city\": \"New York\"}\n",
        "\n",
        "print(\"name\" in person)  # ✅ True (Key exists)\n",
        "print(\"Alice\" in person) # ❌ False (Values are NOT checked)\n",
        "```\n",
        "\n",
        "- **Dictionaries only check for keys by default!** If you want to check for a value, use `.values()`.  \n",
        "\n",
        "- ### **3. Checking for Values in a Dictionary (`.values()`)**  \n",
        "  \n",
        "  - If you want to check if a **value** exists, use the `.values()` method.  \n",
        "\n",
        "🔹 **Example: Checking for a Value in a Dictionary**  \n",
        "\n",
        "```python\n",
        "print(25 in person.values())  # ✅ True (25 is a value in the dictionary)\n",
        "print(\"Bob\" in person.values())  # ❌ False\n",
        "```\n",
        "\n",
        "- ### **4. Checking for Key-Value Pairs (`.items()`)**  \n",
        "\n",
        "  - You can also check if a specific **key-value pair** exists using `.items()`.  \n",
        "\n",
        "🔹 **Example:**  \n",
        "\n",
        "```python\n",
        "print((\"age\", 25) in person.items())  # ✅ True\n",
        "print((\"city\", \"London\") in person.items())  # ❌ False\n",
        "```\n",
        "- ### **Conclusion**\n",
        "\n",
        "✔ **In lists:** `in` checks for values and is **slow (O(n))**.  \n",
        "✔ **In dictionaries:** `in` checks for **keys only** and is **fast (O(1))**.  \n",
        "✔ **For values in dictionaries**, use `.values()`.  \n",
        "\n",
        "- **Use dictionaries for fast lookups and lists when order or duplicates matter!**\n",
        "\n",
        "---\n",
        "\n",
        "15. **Can you modify elements of a tuple? Explain why or why not?**  \n",
        "   \n",
        "- **No, you cannot modify elements of a tuple in Python** because **tuples are immutable**.  \n",
        "\n",
        "- ### **Tuples are Immutable because of the following reasons:**  \n",
        "\n",
        "  - 1. **Fixed Memory Allocation** – Tuples store elements in a **fixed memory block**, making them **faster and more memory-efficient** than lists.  \n",
        "\n",
        "  - 2. **Data Integrity** – Immutability prevents **accidental modifications**, ensuring data consistency.  \n",
        "\n",
        "  - 3. **Hashability** – Tuples can be used as **keys in dictionaries** because they cannot change, unlike lists.  \n",
        "\n",
        "  - 4. **Thread-Safety** – Since tuples cannot be modified, they are **safe to use in multi-threaded environments**.\n",
        "\n",
        "\n",
        "- ### **Example: Trying to Modify a Tuple (Throws Error)**\n",
        "\n",
        "```python\n",
        "my_tuple = (10, 20, 30)\n",
        "my_tuple[1] = 50  # ❌ TypeError: 'tuple' object does not support item assignment\n",
        "```\n",
        "- **Since tuples are immutable, Python does not allow modifying individual elements.**\n",
        "\n",
        "- While **you cannot modify an existing tuple**, you can **reassign** a new tuple to a variable.\n",
        "\n",
        "🔹 **Example: Reassigning a Tuple**  \n",
        "\n",
        "```python\n",
        "my_tuple = (10, 20, 30)\n",
        "my_tuple = (10, 50, 30)  # ✅ Allowed (New tuple is created)\n",
        "print(my_tuple)  # Output: (10, 50, 30)\n",
        "```\n",
        "✔ The variable `my_tuple` now **points to a new tuple**, but the original tuple remains unchanged.\n",
        "\n",
        "- ### **Workarounds for Modifying \"Tuple-Like\" Data**\n",
        "\n",
        "  - If you really need to modify tuple data, you can **convert it to a list**, change the elements, and then convert it back.\n",
        "\n",
        "🔹 **Example: Modifying a Tuple by Converting It to a List**\n",
        "```python\n",
        "my_tuple = (10, 20, 30)\n",
        "\n",
        "# Convert to list\n",
        "temp_list = list(my_tuple)\n",
        "temp_list[1] = 50  # Modify the value\n",
        "\n",
        "# Convert back to tuple\n",
        "my_tuple = tuple(temp_list)\n",
        "print(my_tuple)  # Output: (10, 50, 30)\n",
        "```\n",
        "✔ **However, this creates a new tuple**, so it does not truly \"modify\" the original one.\n",
        "\n",
        "- ### **Conclusion**\n",
        "❌ **Tuples are immutable, so you cannot modify their elements directly.**  \n",
        "✔ **You can reassign a new tuple or convert it to a list for modifications.**  \n",
        "✔ **This makes tuples ideal for storing fixed, unchangeable data like database records or coordinates.**  \n",
        "\n",
        "- **Use tuples when data should remain constant!**\n",
        "\n",
        "---\n",
        "\n",
        "16. **What is a nested dictionary? Example?**  \n",
        "   \n",
        "- A **nested dictionary** is a dictionary inside another dictionary. In Python, this allows you to store complex data structures where each key in the outer dictionary maps to another dictionary as its value.\n",
        "\n",
        "- ### Example of a Nested Dictionary:\n",
        "\n",
        "```python\n",
        "student_data = {\n",
        "    \"Alice\": {\"age\": 21, \"grade\": \"A\", \"subjects\": [\"Math\", \"Physics\"]},\n",
        "    \"Bob\": {\"age\": 22, \"grade\": \"B\", \"subjects\": [\"Biology\", \"Chemistry\"]},\n",
        "    \"Charlie\": {\"age\": 20, \"grade\": \"A+\", \"subjects\": [\"Computer Science\", \"Math\"]}\n",
        "}\n",
        "```\n",
        "\n",
        "- # Accessing data\n",
        "\n",
        "```python\n",
        "print(student_data[\"Alice\"][\"grade\"])  # Output: A\n",
        "print(student_data[\"Bob\"][\"subjects\"])  # Output: ['Biology', 'Chemistry']\n",
        "```\n",
        "- In this example:\n",
        " - The outer dictionary (`student_data`) contains students' names as keys.\n",
        " - Each value is another dictionary that holds information about the student, such as `age`, `grade`, and `subjects`.\n",
        "     \n",
        "---\n",
        "\n",
        "17. **Time complexity of accessing dictionary elements?**  \n",
        "   \n",
        "- ### **Time Complexity of Accessing Dictionary Elements in Python**  \n",
        "\n",
        "- #### **Average Case (Best Performance)**\n",
        "  \n",
        "  - **Time Complexity: `O(1)` (Constant Time)**\n",
        "  - Python dictionaries use a **hash table** for storing key-value pairs, making lookup operations **extremely fast**.\n",
        "  - Retrieving a value using `my_dict[key]` takes **constant time** due to **hashing**.\n",
        "\n",
        "🔹 **Example: O(1) Lookup**\n",
        "```python\n",
        "my_dict = {\"name\": \"Alice\", \"age\": 25, \"city\": \"New York\"}\n",
        "print(my_dict[\"name\"])  # O(1) operation\n",
        "```\n",
        "\n",
        "- #### **Worst Case (Collisions & Rehashing)**\n",
        "  \n",
        "  - **Time Complexity: `O(n)` (Linear Time)**\n",
        "  - If **too many hash collisions** occur, Python resolves them using **chaining or open addressing**.\n",
        "  - In an extremely bad case (many collisions or a poorly implemented hash function), a lookup could take **O(n)** time.\n",
        "\n",
        "🔹 **Example: Worst Case (Rare)**\n",
        "```python\n",
        "# Creating a dictionary with many hash collisions\n",
        "keys = [\"a\", \"b\", \"c\"]\n",
        "my_dict = {key: i for i, key in enumerate(keys)}\n",
        "\n",
        "# If all keys had the same hash (hypothetical), lookup could be O(n)\n",
        "print(my_dict.get(\"c\"))  # Worst case O(n), but typically O(1)\n",
        "```\n",
        "---\n",
        "\n",
        "18. **When are lists preferred over dictionaries?**  \n",
        "   \n",
        "- Lists and dictionaries serve different purposes, but **lists are preferred over dictionaries in certain scenarios** where:  \n",
        "\n",
        "- ### **1️⃣ Order Matters**  \n",
        " - **Lists maintain a strict order** (index-based retrieval), whereas **dictionaries (before Python 3.7) do not**.  \n",
        " - ✅ Use lists when sequential order is essential.  \n",
        "\n",
        "🔹 **Example:** Maintaining a **leaderboard** in a game.  \n",
        "```python\n",
        "leaderboard = [\"Alice\", \"Bob\", \"Charlie\"]\n",
        "print(leaderboard[0])  # Alice (1st place)\n",
        "```\n",
        "\n",
        "- ### **2️⃣ Data Needs Index-Based Access**  \n",
        " - Lists allow **fast access using an index**, while dictionaries require keys.  \n",
        " - ✅ Use lists when you **frequently access elements by position**.  \n",
        "\n",
        "🔹 **Example:** Storing daily **temperature readings**.  \n",
        "```python\n",
        "temperatures = [30, 32, 31, 29, 35]\n",
        "print(temperatures[2])  # 31°C on the third day\n",
        "```\n",
        "\n",
        "- ### **3️⃣ Memory Optimization is Important**  \n",
        " - **Lists use less memory** compared to dictionaries because they store only values (not key-value pairs).  \n",
        " - ✅ Use lists for **large datasets** where memory efficiency is crucial.  \n",
        "\n",
        "🔹 **Example:** Processing **millions of numerical values** in AI.  \n",
        "```python\n",
        "large_list = [i for i in range(1000000)]  # Memory-efficient\n",
        "```\n",
        "\n",
        "- ### **4️⃣ When Insertion and Modification Are Frequent**  \n",
        " - Lists allow **easy insertion, deletion, and modification**.  \n",
        " - ✅ Use lists when the data **changes frequently**.  \n",
        "\n",
        "🔹 **Example:** Managing a **task list** dynamically.  \n",
        "```python\n",
        "tasks = [\"Learn Python\", \"Build AI model\", \"Test chatbot\"]\n",
        "tasks.append(\"Deploy AI\")  # ✅ Adding new task\n",
        "tasks.remove(\"Test chatbot\")  # ✅ Removing a task\n",
        "```\n",
        "\n",
        "- ### **5️⃣ Suitable for Iteration and Sorting**  \n",
        " - Lists are **easier to iterate** and **sort** compared to dictionaries.  \n",
        " - ✅ Use lists when you need **sorting and filtering**.  \n",
        "\n",
        "🔹 **Example:** Sorting **student scores**.  \n",
        "\n",
        "```python\n",
        "scores = [85, 90, 78, 92]\n",
        "scores.sort()  # [78, 85, 90, 92]\n",
        "```\n",
        "\n",
        "- ### **When to Use Dictionaries Instead?**  \n",
        " - If **fast lookups by key** are needed → Use **dictionaries**.  \n",
        " - If **data needs meaningful labels** → Use **dictionaries**.  \n",
        " - If **key-value relationships** are required → Use **dictionaries**.   \n",
        "\n",
        "---\n",
        "\n",
        "19. **Why are dictionaries considered unordered?**  \n",
        "  \n",
        "- Dictionaries in Python are considered **unordered** because they store key-value pairs using a **hash table**, where the position of elements is determined by their **hash values**, not by insertion order.  \n",
        "\n",
        "- However, since **Python 3.7+, dictionaries maintain insertion order**, meaning items will be **retrieved in the order they were added**. But, technically, dictionaries are still not \"sorted\" because:  \n",
        "\n",
        "1. **Keys are stored based on their hash values, not their sequence.**  \n",
        "\n",
        "2. **Ordering is not guaranteed in older versions (before Python 3.7).**  \n",
        "\n",
        "3. **Dictionary operations (e.g., deletions) can change internal structure, affecting order.**  \n",
        "\n",
        "- ### **Example: Dictionary Does Not Store Items in a Strict Order**\n",
        "\n",
        "```python\n",
        "my_dict = {\"banana\": 3, \"apple\": 5, \"cherry\": 2}\n",
        "\n",
        "print(my_dict)  \n",
        "# Output (Python 3.7+): {'banana': 3, 'apple': 5, 'cherry': 2}\n",
        "# Output (Python 3.6 and earlier): Order may be random\n",
        "```\n",
        "---\n",
        "\n",
        "20. **Difference between lists and dictionaries in terms of data retrieval?**  \n",
        "   \n",
        "- ### **Difference between Lists and Dictionaries in Terms of Data Retrieval are as follows:**  \n",
        "\n",
        "| Feature           | **List (`list`)**  | **Dictionary (`dict`)**  |\n",
        "|------------------|------------------|-------------------------|\n",
        "| **Data Retrieval Method** | Uses **index-based** retrieval | Uses **key-based** retrieval |\n",
        "| **Time Complexity (Average Case)** | **O(1)** for direct indexing, **O(n)** for searching | **O(1)** for key lookup (hashing mechanism) |\n",
        "| **Time Complexity (Worst Case)** | **O(n)** when searching for an element | **O(n)** if hash collisions occur |\n",
        "| **Flexibility in Lookup** | Can only retrieve values by position (index) | Can retrieve values directly using keys |\n",
        "| **Performance for Large Data** | Slower for searches (requires scanning the list) | Faster due to hash table-based lookups |\n",
        "| **Example Retrieval** | `my_list[2]` (by index) | `my_dict[\"name\"]` (by key) |\n",
        "\n",
        "- ### **Example: Data Retrieval in Lists vs. Dictionaries**\n",
        "\n",
        "```python\n",
        "# List retrieval (by index)\n",
        "my_list = [\"Alice\", \"Bob\", \"Charlie\"]\n",
        "print(my_list[1])  # Output: Bob (O(1) for direct access)\n",
        "\n",
        "# Searching in a list (O(n))\n",
        "if \"Charlie\" in my_list:\n",
        "    print(\"Found Charlie\")  # Needs iteration (O(n))\n",
        "\n",
        "# Dictionary retrieval (by key)\n",
        "my_dict = {\"name\": \"Alice\", \"age\": 25, \"city\": \"New York\"}\n",
        "print(my_dict[\"name\"])  # Output: Alice (O(1) lookup)\n",
        "\n",
        "# Checking existence in a dictionary (O(1))\n",
        "if \"name\" in my_dict:\n",
        "    print(\"Key exists\")  # Uses hashing (O(1))\n",
        "```\n",
        "\n",
        "- **Use a List** when **order matters** and you need sequential access.  \n",
        "- **Use a Dictionary** when **fast lookups** and **associative data storage** (key-value pairs) are required.  \n",
        "\n",
        "---\n",
        "\n",
        "            **#Practical Questions (Python Code Solutions)**"
      ],
      "metadata": {
        "id": "mKYHBH8-i_fD"
      }
    },
    {
      "cell_type": "code",
      "source": [
        "# 1. Create a string with your name and print it\n",
        "name = \"Arijit Chakraborty\"\n",
        "print(name)"
      ],
      "metadata": {
        "colab": {
          "base_uri": "https://localhost:8080/"
        },
        "id": "NoHWoUW8jLrd",
        "outputId": "8a220b0b-3548-4cab-ac23-7be90e133aef"
      },
      "execution_count": null,
      "outputs": [
        {
          "output_type": "stream",
          "name": "stdout",
          "text": [
            "Arijit Chakraborty\n"
          ]
        }
      ]
    },
    {
      "cell_type": "code",
      "source": [
        "# 2. Find the length of \"Hello World\"\n",
        "print(len(\"Hello World\"))"
      ],
      "metadata": {
        "colab": {
          "base_uri": "https://localhost:8080/"
        },
        "id": "DOtKNyL7jufu",
        "outputId": "b70fc902-36b5-4955-d435-5c9a41518350"
      },
      "execution_count": null,
      "outputs": [
        {
          "output_type": "stream",
          "name": "stdout",
          "text": [
            "11\n"
          ]
        }
      ]
    },
    {
      "cell_type": "code",
      "source": [
        "# 3. Slice the first 3 characters from \"Python Programming\"\n",
        "print(\"Python Programming\"[:3])"
      ],
      "metadata": {
        "colab": {
          "base_uri": "https://localhost:8080/"
        },
        "id": "ebCeLwCmrKfS",
        "outputId": "d219605d-f00d-43f0-9e2e-a8974fe01d41"
      },
      "execution_count": null,
      "outputs": [
        {
          "output_type": "stream",
          "name": "stdout",
          "text": [
            "Pyt\n"
          ]
        }
      ]
    },
    {
      "cell_type": "code",
      "source": [
        "# 4. Convert \"hello\" to uppercase\n",
        "print(\"hello\".upper())"
      ],
      "metadata": {
        "colab": {
          "base_uri": "https://localhost:8080/"
        },
        "id": "j0Nqq6ssrQWg",
        "outputId": "1cc21a92-30e5-446a-e512-c22e89790d70"
      },
      "execution_count": null,
      "outputs": [
        {
          "output_type": "stream",
          "name": "stdout",
          "text": [
            "HELLO\n"
          ]
        }
      ]
    },
    {
      "cell_type": "code",
      "source": [
        "# 5. Replace \"apple\" with \"orange\" in \"I like apple\"\n",
        "print(\"I like apple\".replace(\"apple\", \"orange\"))"
      ],
      "metadata": {
        "colab": {
          "base_uri": "https://localhost:8080/"
        },
        "id": "hq3bUUMvrUGL",
        "outputId": "8e045137-a61c-40b3-d72c-6770f1aeaa5c"
      },
      "execution_count": null,
      "outputs": [
        {
          "output_type": "stream",
          "name": "stdout",
          "text": [
            "I like orange\n"
          ]
        }
      ]
    },
    {
      "cell_type": "code",
      "source": [
        "# 6. Create a list with numbers 1 to 5 and print it\n",
        "numbers = [1, 2, 3, 4, 5]\n",
        "print(numbers)"
      ],
      "metadata": {
        "colab": {
          "base_uri": "https://localhost:8080/"
        },
        "id": "qW8RSyLJrZe4",
        "outputId": "04135aef-fcde-4fb7-892b-7972235cfc2b"
      },
      "execution_count": null,
      "outputs": [
        {
          "output_type": "stream",
          "name": "stdout",
          "text": [
            "[1, 2, 3, 4, 5]\n"
          ]
        }
      ]
    },
    {
      "cell_type": "code",
      "source": [
        "# 7. Append 10 to the list [1, 2, 3, 4]\n",
        "lst = [1, 2, 3, 4]\n",
        "lst.append(10)\n",
        "print(lst)"
      ],
      "metadata": {
        "colab": {
          "base_uri": "https://localhost:8080/"
        },
        "id": "AUPbWAFkrek_",
        "outputId": "9ea7548f-0501-474b-e8c0-b2f482465adb"
      },
      "execution_count": null,
      "outputs": [
        {
          "output_type": "stream",
          "name": "stdout",
          "text": [
            "[1, 2, 3, 4, 10]\n"
          ]
        }
      ]
    },
    {
      "cell_type": "code",
      "source": [
        "# 8. Remove the number 3 from [1, 2, 3, 4, 5]\n",
        "lst = [1, 2, 3, 4, 5]\n",
        "lst.remove(3)\n",
        "print(lst)"
      ],
      "metadata": {
        "colab": {
          "base_uri": "https://localhost:8080/"
        },
        "id": "jiRym7RKrig4",
        "outputId": "058e2808-22be-480f-cc05-5c1decb4a569"
      },
      "execution_count": null,
      "outputs": [
        {
          "output_type": "stream",
          "name": "stdout",
          "text": [
            "[1, 2, 4, 5]\n"
          ]
        }
      ]
    },
    {
      "cell_type": "code",
      "source": [
        "# 9. Access the second element in ['a', 'b', 'c', 'd']\n",
        "letters = ['a', 'b', 'c', 'd']\n",
        "print(letters[1])"
      ],
      "metadata": {
        "colab": {
          "base_uri": "https://localhost:8080/"
        },
        "id": "gdPt8HaDrnaM",
        "outputId": "d66a9fc4-86d3-4faa-f9fd-d3ad1f410756"
      },
      "execution_count": null,
      "outputs": [
        {
          "output_type": "stream",
          "name": "stdout",
          "text": [
            "b\n"
          ]
        }
      ]
    },
    {
      "cell_type": "code",
      "source": [
        "# 10. Reverse the list [10, 20, 30, 40, 50]\n",
        "nums = [10, 20, 30, 40, 50]\n",
        "print(nums[::-1])"
      ],
      "metadata": {
        "colab": {
          "base_uri": "https://localhost:8080/"
        },
        "id": "n4I01-Zcrsh1",
        "outputId": "9cf1ecd3-6909-47cd-8e62-cbdcb4268fb3"
      },
      "execution_count": null,
      "outputs": [
        {
          "output_type": "stream",
          "name": "stdout",
          "text": [
            "[50, 40, 30, 20, 10]\n"
          ]
        }
      ]
    },
    {
      "cell_type": "code",
      "source": [
        "# 11. Create and print a tuple\n",
        "tup = (100, 200, 300)\n",
        "print(tup)"
      ],
      "metadata": {
        "colab": {
          "base_uri": "https://localhost:8080/"
        },
        "id": "cYm9bU-irwy9",
        "outputId": "a3633531-2a01-409d-f0ba-da41213112d4"
      },
      "execution_count": null,
      "outputs": [
        {
          "output_type": "stream",
          "name": "stdout",
          "text": [
            "(100, 200, 300)\n"
          ]
        }
      ]
    },
    {
      "cell_type": "code",
      "source": [
        "# 12. Access second-to-last element of ('red', 'green', 'blue', 'yellow')\n",
        "colors = ('red', 'green', 'blue', 'yellow')\n",
        "print(colors[-2])"
      ],
      "metadata": {
        "colab": {
          "base_uri": "https://localhost:8080/"
        },
        "id": "xtCrpWsGr2My",
        "outputId": "82bd069f-6399-493d-89f0-22c025108355"
      },
      "execution_count": null,
      "outputs": [
        {
          "output_type": "stream",
          "name": "stdout",
          "text": [
            "blue\n"
          ]
        }
      ]
    },
    {
      "cell_type": "code",
      "source": [
        "# 13. Find the minimum number in (10, 20, 5, 15)\n",
        "print(min((10, 20, 5, 15)))"
      ],
      "metadata": {
        "colab": {
          "base_uri": "https://localhost:8080/"
        },
        "id": "PluoIwrir9BC",
        "outputId": "d419a5ec-a96a-4fc3-d7f8-45744b3f24db"
      },
      "execution_count": null,
      "outputs": [
        {
          "output_type": "stream",
          "name": "stdout",
          "text": [
            "5\n"
          ]
        }
      ]
    },
    {
      "cell_type": "code",
      "source": [
        "# 14. Find the index of \"cat\" in ('dog', 'cat', 'rabbit')\n",
        "animals = ('dog', 'cat', 'rabbit')\n",
        "print(animals.index(\"cat\"))"
      ],
      "metadata": {
        "colab": {
          "base_uri": "https://localhost:8080/"
        },
        "id": "tHHGSCx_sBmj",
        "outputId": "f927f5fc-5338-4483-fa05-6381781ef04d"
      },
      "execution_count": null,
      "outputs": [
        {
          "output_type": "stream",
          "name": "stdout",
          "text": [
            "1\n"
          ]
        }
      ]
    },
    {
      "cell_type": "code",
      "source": [
        "# 15. Check if \"kiwi\" is in a tuple\n",
        "fruits = ('apple', 'banana', 'cherry')\n",
        "print(\"kiwi\" in fruits)"
      ],
      "metadata": {
        "colab": {
          "base_uri": "https://localhost:8080/"
        },
        "id": "B-Rg7X88sGnq",
        "outputId": "4c5a26a7-63e0-4816-d840-0e8b9d8963ea"
      },
      "execution_count": null,
      "outputs": [
        {
          "output_type": "stream",
          "name": "stdout",
          "text": [
            "False\n"
          ]
        }
      ]
    },
    {
      "cell_type": "code",
      "source": [
        "# 16. Create a set {'a', 'b', 'c'} and print it\n",
        "print(set(['a', 'b', 'c']))"
      ],
      "metadata": {
        "colab": {
          "base_uri": "https://localhost:8080/"
        },
        "id": "Lr1__YySsMyI",
        "outputId": "91cf7e44-4356-4fe2-8073-766a923e2678"
      },
      "execution_count": 5,
      "outputs": [
        {
          "output_type": "stream",
          "name": "stdout",
          "text": [
            "{'b', 'a', 'c'}\n"
          ]
        }
      ]
    },
    {
      "cell_type": "code",
      "source": [
        "# 17. Clear a set {1, 2, 3, 4, 5}\n",
        "s = {1, 2, 3, 4, 5}\n",
        "s.clear()\n",
        "print(s)"
      ],
      "metadata": {
        "colab": {
          "base_uri": "https://localhost:8080/"
        },
        "id": "AeDm5yH-srw4",
        "outputId": "a7f81a86-6f64-4033-caca-63e028fe6085"
      },
      "execution_count": null,
      "outputs": [
        {
          "output_type": "stream",
          "name": "stdout",
          "text": [
            "set()\n"
          ]
        }
      ]
    },
    {
      "cell_type": "code",
      "source": [
        "# 18. Remove element 4 from {1, 2, 3, 4}\n",
        "s = {1, 2, 3, 4}\n",
        "s.remove(4)\n",
        "print(s)"
      ],
      "metadata": {
        "colab": {
          "base_uri": "https://localhost:8080/"
        },
        "id": "U4uF28YBsuW4",
        "outputId": "c5bf7585-5efd-4b6c-f50a-c3538e59e177"
      },
      "execution_count": null,
      "outputs": [
        {
          "output_type": "stream",
          "name": "stdout",
          "text": [
            "{1, 2, 3}\n"
          ]
        }
      ]
    },
    {
      "cell_type": "code",
      "source": [
        "# 19. Union of two sets {1, 2, 3} and {3, 4, 5}\n",
        "print({1, 2, 3} | {3, 4, 5})"
      ],
      "metadata": {
        "colab": {
          "base_uri": "https://localhost:8080/"
        },
        "id": "0nZhzf-hsykN",
        "outputId": "d6b0be3c-2043-4e73-a030-43b70f630394"
      },
      "execution_count": null,
      "outputs": [
        {
          "output_type": "stream",
          "name": "stdout",
          "text": [
            "{1, 2, 3, 4, 5}\n"
          ]
        }
      ]
    },
    {
      "cell_type": "code",
      "source": [
        "# 20. Intersection of {1, 2, 3} and {2, 3, 4}\n",
        "print({1, 2, 3} & {2, 3, 4})"
      ],
      "metadata": {
        "id": "s03tN-mvtCMO",
        "outputId": "c61b7678-e504-4cfb-9c7d-198e81119704",
        "colab": {
          "base_uri": "https://localhost:8080/"
        }
      },
      "execution_count": null,
      "outputs": [
        {
          "output_type": "stream",
          "name": "stdout",
          "text": [
            "{2, 3}\n"
          ]
        }
      ]
    },
    {
      "cell_type": "code",
      "source": [
        "# 21. Create and print a dictionary\n",
        "person = {\"name\": \"John\", \"age\": 25, \"city\": \"Madison\"}\n",
        "print(person)"
      ],
      "metadata": {
        "colab": {
          "base_uri": "https://localhost:8080/"
        },
        "id": "uOGMD71aq-A-",
        "outputId": "99e7bdb5-9c62-4e91-d2cc-8d7b3832ffd5"
      },
      "execution_count": 8,
      "outputs": [
        {
          "output_type": "stream",
          "name": "stdout",
          "text": [
            "{'name': 'John', 'age': 25, 'city': 'Madison'}\n"
          ]
        }
      ]
    },
    {
      "cell_type": "code",
      "source": [
        "# 22. Add a new key-value pair\n",
        "person[\"country\"] = \"USA\"\n",
        "print(person)"
      ],
      "metadata": {
        "colab": {
          "base_uri": "https://localhost:8080/"
        },
        "id": "_cpwqFV_rdJe",
        "outputId": "aaa9aa70-f768-44a2-92aa-3f572b54482d"
      },
      "execution_count": 9,
      "outputs": [
        {
          "output_type": "stream",
          "name": "stdout",
          "text": [
            "{'name': 'John', 'age': 25, 'city': 'Madison', 'country': 'USA'}\n"
          ]
        }
      ]
    },
    {
      "cell_type": "code",
      "source": [
        "# 23. Access the value associated with \"name\"\n",
        "person = {'name': 'Alice', 'age': 30}\n",
        "print(person['name'])  # Accessing the value associated with the key 'name'\n"
      ],
      "metadata": {
        "colab": {
          "base_uri": "https://localhost:8080/"
        },
        "id": "ETksHrBfrsTe",
        "outputId": "bc2b3ef4-d428-40df-cc5c-1037420f3f6d"
      },
      "execution_count": 14,
      "outputs": [
        {
          "output_type": "stream",
          "name": "stdout",
          "text": [
            "Alice\n"
          ]
        }
      ]
    },
    {
      "cell_type": "code",
      "source": [
        "# 24. Remove \"age\" key from dictionary\n",
        "person = {'name': 'Bob', 'age': 22, 'city': 'New York'}\n",
        "del person[\"age\"]\n",
        "print(person)"
      ],
      "metadata": {
        "colab": {
          "base_uri": "https://localhost:8080/"
        },
        "id": "wcwSKlDoryO-",
        "outputId": "fb1d052c-04be-4576-fb25-ee3f2fa90788"
      },
      "execution_count": 16,
      "outputs": [
        {
          "output_type": "stream",
          "name": "stdout",
          "text": [
            "{'name': 'Bob', 'city': 'New York'}\n"
          ]
        }
      ]
    },
    {
      "cell_type": "code",
      "source": [
        "# 25. Check if \"city\" key exists\n",
        "person = {'name': 'Alice', 'city': 'Paris'}\n",
        "print(\"city\" in person)"
      ],
      "metadata": {
        "colab": {
          "base_uri": "https://localhost:8080/"
        },
        "id": "uCoclBUpr4C3",
        "outputId": "2a41bd0a-98d8-4986-e335-b2ddb1df2b13"
      },
      "execution_count": 17,
      "outputs": [
        {
          "output_type": "stream",
          "name": "stdout",
          "text": [
            "True\n"
          ]
        }
      ]
    },
    {
      "cell_type": "code",
      "source": [
        "# 26. Create and print a list, tuple, and dictionary\n",
        "\n",
        "# Creating a list\n",
        "\n",
        "my_list = [1, 2, 3, 4, 5]\n",
        "print(\"List:\", my_list)\n",
        "\n",
        "# Creating a tuple\n",
        "\n",
        "my_tuple = (10, 20, 30, 40, 50)\n",
        "print(\"Tuple:\", my_tuple)\n",
        "\n",
        "# Creating a dictionary\n",
        "\n",
        "my_dict = {'name': 'Arijit', 'age': 29, 'city': 'Kolkata'}\n",
        "print(\"Dictionary:\", my_dict)\n",
        "\n",
        "# 3 in one\n",
        "\n",
        "print([1, 2, 3], (4, 5, 6), {\"First name\": 'Arijit', \"Last name\": 'Chakraborty'})"
      ],
      "metadata": {
        "colab": {
          "base_uri": "https://localhost:8080/"
        },
        "id": "N08RJ2phr8qo",
        "outputId": "31254e92-ada0-4b8f-a82a-fd06b7019b05"
      },
      "execution_count": 21,
      "outputs": [
        {
          "output_type": "stream",
          "name": "stdout",
          "text": [
            "List: [1, 2, 3, 4, 5]\n",
            "Tuple: (10, 20, 30, 40, 50)\n",
            "Dictionary: {'name': 'Arijit', 'age': 29, 'city': 'Kolkata'}\n",
            "[1, 2, 3] (4, 5, 6) {'First name': 'Arijit', 'Last name': 'Chakraborty'}\n"
          ]
        }
      ]
    },
    {
      "cell_type": "code",
      "source": [
        "# 27. Create a sorted list of 5 random numbers\n",
        "import random\n",
        "nums = sorted([random.randint(1, 100) for _ in range(5)])\n",
        "print(nums)"
      ],
      "metadata": {
        "colab": {
          "base_uri": "https://localhost:8080/"
        },
        "id": "lBUpfOmLvqEk",
        "outputId": "a5276b8a-18ca-4ef2-a9d5-22e5db6f4563"
      },
      "execution_count": 22,
      "outputs": [
        {
          "output_type": "stream",
          "name": "stdout",
          "text": [
            "[25, 43, 70, 80, 82]\n"
          ]
        }
      ]
    },
    {
      "cell_type": "code",
      "source": [
        "# 28. Print element at index 3 of a list\n",
        "words = [\"apple\", \"banana\", \"cherry\", \"date\"]\n",
        "print(words[3])\n"
      ],
      "metadata": {
        "colab": {
          "base_uri": "https://localhost:8080/"
        },
        "id": "GZEeQqKrvwSv",
        "outputId": "428d3b75-69c7-4243-9a65-424104445d86"
      },
      "execution_count": null,
      "outputs": [
        {
          "output_type": "stream",
          "name": "stdout",
          "text": [
            "date\n"
          ]
        }
      ]
    },
    {
      "cell_type": "code",
      "source": [
        "# 29. Combine two dictionaries\n",
        "d1 = {\"a\": 1, \"b\": 2}\n",
        "d2 = {\"c\": 3, \"d\": 4}\n",
        "d1.update(d2)\n",
        "print(d1)"
      ],
      "metadata": {
        "colab": {
          "base_uri": "https://localhost:8080/"
        },
        "id": "lDbyRVX0v0lP",
        "outputId": "dac36d38-21d7-4563-b7f6-51ff37c6b907"
      },
      "execution_count": null,
      "outputs": [
        {
          "output_type": "stream",
          "name": "stdout",
          "text": [
            "{'a': 1, 'b': 2, 'c': 3, 'd': 4}\n"
          ]
        }
      ]
    },
    {
      "cell_type": "code",
      "source": [
        "# 30. Convert list to set\n",
        "print(set([\"apple\", \"banana\", \"cherry\"]))"
      ],
      "metadata": {
        "colab": {
          "base_uri": "https://localhost:8080/"
        },
        "id": "AxQdNqBNwgVH",
        "outputId": "62a1f801-031f-472d-b3a1-640e0460de79"
      },
      "execution_count": 23,
      "outputs": [
        {
          "output_type": "stream",
          "name": "stdout",
          "text": [
            "{'cherry', 'apple', 'banana'}\n"
          ]
        }
      ]
    }
  ]
}